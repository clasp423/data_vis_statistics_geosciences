{
 "cells": [
  {
   "cell_type": "markdown",
   "metadata": {},
   "source": [
    "# Lab One - Climatic Averages \n",
    "\n",
    "## *Analyzing the Global Temperatures Divergence from Average from 1880 - 2018*\n",
    "\n",
    "In this lab we learn part 1 basics of Python (the programming commands) for data analysis through utilizing the Jupyter environment (this display) to analyze data. \n",
    "\n",
    "You will learn how to: \n",
    "\n",
    "\n",
    "- Use Jupyter\n",
    "- Read in a CSV (comma seperated data file) into a data format for analysis\n",
    "- Implement Simple Flow Structures (for loops, if statements)\n",
    "- Plotting Basics (line plots, bar charts, and colors)\n",
    "- Indexing (simple, and boolean indexing)\n",
    "- Use the following data structures: numpy arrays and Pandas dataframes\n",
    "- Use hex codes for colors\n",
    "\n",
    "By the end of this lab you should be able to: read in simple data from CSV, use boolean indexing, and make a line plot / bar chart\n",
    "\n",
    "Additional materials for reading and reference: Igual & Seguí Chapter 1 Chapter 2: Sections 2.1 through 2.6.2 \n",
    "\n",
    "More on Jupyter here:\n",
    "    http://jupyter-notebook.readthedocs.io/en/stable/notebook.html"
   ]
  },
  {
   "cell_type": "markdown",
   "metadata": {},
   "source": [
    "## *Part 1 - What is Jupyter?*\n",
    "\n",
    "\n",
    "\n",
    "Jupyter is a interactive environment (for example this Notebook is in Jupyter) where we can explore how a programming language, i.e. Python, works. I like to think of this as a display format which is mixed text like this box and code in the next box - we will be doing the first lab reports using Jupyter. Note this is not the only way to run Python. \n",
    "\n",
    "### Running Cells: \n",
    "- You can \"run\" various cells at a time by hitting shift-enter OR by hitting run after selecting a cell through the menu. Note you can run blocks of cells (say before or after a certain line through the Cell tab as well)\n",
    "\n",
    "### Types of Cells: \n",
    "- You can have cells as programming commands or as text. You can switch between programming language and text through the Cell -> Markdown option. \n",
    "\n",
    "### Editing Cells: \n",
    "- To edit a cell - double click in the cell to interact with the program. \n",
    "\n",
    "\n",
    "### Interactive Exercise 1!\n",
    "\n",
    "Let's try this out! We have two blank cells below. In the first cell type the following: \n",
    "print('Python is awesome')\n",
    "\n",
    "In the next cell type the same words, but this time switch the cell to \"Markdown\" through the cell menu. \n",
    "\n",
    "Then run both cells through typing Shift+Enter OR Chitting the Run button above. \n",
    "\n",
    "When you are done please put your nametag down. We will discuss shortly!"
   ]
  },
  {
   "cell_type": "code",
   "execution_count": null,
   "metadata": {},
   "outputs": [],
   "source": [
    "# This is cell one - type your commands below.\n",
    "\n",
    "# In Python a '#' is a comment, anything after this \n",
    "# will not be evaluated as a command.\n",
    "\n",
    "\n",
    "\n",
    "\n"
   ]
  },
  {
   "cell_type": "code",
   "execution_count": null,
   "metadata": {},
   "outputs": [],
   "source": [
    "# This is cell two - type your commands below.\n",
    "\n",
    "\n",
    "\n",
    "\n",
    "\n"
   ]
  },
  {
   "cell_type": "markdown",
   "metadata": {},
   "source": [
    "'\n",
    "\n",
    "''\n",
    "\n",
    "'''\n",
    "\n",
    "''''\n",
    "\n",
    "'''''\n",
    "\n",
    "''''''\n",
    "\n",
    "'''''\n",
    "\n",
    "''''\n",
    "\n",
    "'''\n",
    "\n",
    "''\n",
    "\n",
    "'\n",
    "\n",
    "\n",
    "\n",
    "\n",
    "\n",
    "\n",
    "\n",
    "### Why are we using Jupyter? \n",
    "\n",
    "There are many ways to use Python. We are starting with Jupyter because (1) it allows us to learn together, (2) by using Jupyter you can enable a lot of self-learning (post class) on your own, and finally (3) your lab reports are much more interesting to complete. You get to turn in great Notebooks that are pre-evaluated. This means if you wrote half your code down but half didn't work, we can still give you partial credit. Wahoo! Becoming a coding expert takes time and effort, we want to reward this effort.  "
   ]
  },
  {
   "cell_type": "markdown",
   "metadata": {},
   "source": [
    "## *Part 2 - What is Python and why are we using it?*\n",
    "\n",
    "Python is an object oriented programming, interpreted language. This means it has 'objects' which have certain rules or methods and attributes which you can access to run programming. The interpreted part means that there is no compilation. The interpreter reads code line by line from beginning to end. This Notebook is running a version of Python called Interactive Python, or IPython. We will see the benefits of using IPython in action in this first lab. We have already seen the print command above and compared markdown cells to programming cells. \n",
    "\n",
    "### *Part 2. A - Let's start by importing some packages*"
   ]
  },
  {
   "cell_type": "code",
   "execution_count": null,
   "metadata": {},
   "outputs": [],
   "source": [
    "# Think of packages like enabling different levels of a game. \n",
    "# The hashtag we use to make a comment, this line can be used so that the computer skips \n",
    "# reading this code.\n",
    "\n",
    "import numpy as np\n",
    "import pandas as pd\n",
    "\n",
    "# These two packages enable data analysis through various objects (and their methods) and \n",
    "# data types. \n",
    "\n",
    "# For example, you can create a numpy array - 1D data array - of numbers as follows:\n",
    "\n",
    "# This creates an arrange from 0 up to 10 but note including 10, every second value.\n",
    "example_array = np.arange(0, 10, 2)\n",
    "\n",
    "# You can see this as follows with the following print command we saw earlier.\n",
    "print(example_array)"
   ]
  },
  {
   "cell_type": "code",
   "execution_count": null,
   "metadata": {},
   "outputs": [],
   "source": [
    "# Each object in Python has a type, in this case we see that it is a numpy array.\n",
    "type(example_array)"
   ]
  },
  {
   "cell_type": "code",
   "execution_count": null,
   "metadata": {},
   "outputs": [],
   "source": [
    "# We can access different values within an array with indexing, for example:\n",
    "\n",
    "print(example_array[0]) #print index 0 value\n",
    "print(example_array[1]) #print index 1 value"
   ]
  },
  {
   "cell_type": "code",
   "execution_count": null,
   "metadata": {},
   "outputs": [],
   "source": [
    "# Types also include, integers (non-decimal numbers), floats (decmial numbers), strings (words), many others...\n",
    "\n",
    "# For example\n",
    "first_entry = example_array[0]\n",
    "print('{} has type {}'.format(first_entry, type(first_entry)))\n",
    "\n",
    "example_int = 5\n",
    "print('{} has type {}'.format(example_int, type(example_int)))\n",
    "\n",
    "# We can also (sometimes) change the type of certain objects.\n",
    "example_float = float(example_int)\n",
    "print('{} has type {}'.format(example_float, type(example_float)))\n",
    "\n",
    "\n",
    "# If you get a type error when you run code, use these type commands to see what is the \n",
    "# issue, most likely you are trying to do something that can not be done to a string, \n",
    "# or an integer etc. \n",
    "\n",
    "# Note the type of this number is an numpy int64\n",
    "# as compared to the type of of example int which is JUST int"
   ]
  },
  {
   "cell_type": "markdown",
   "metadata": {},
   "source": [
    "### Interactive Exercise 2!\n",
    "\n",
    "What do you think printing the index of -1 would output? We saw indexing of 0 and 1 before -\n",
    "in the following cell print the value in the ExampleArray located at -1 index. When done put \n",
    "your nametags down. While you wait for others to finish, what do you think this \n",
    "implies about indexing in Python? How could this be advantageous? When might it become a problem?\n"
   ]
  },
  {
   "cell_type": "code",
   "execution_count": null,
   "metadata": {},
   "outputs": [],
   "source": [
    "###write your command below\n",
    "\n",
    "\n"
   ]
  },
  {
   "cell_type": "markdown",
   "metadata": {},
   "source": [
    "'\n",
    "\n",
    "''\n",
    "\n",
    "'''\n",
    "\n",
    "''''\n",
    "\n",
    "'''''\n",
    "\n",
    "''''''\n",
    "\n",
    "'''''\n",
    "\n",
    "''''\n",
    "\n",
    "'''\n",
    "\n",
    "''\n",
    "\n",
    "'\n",
    "\n",
    "### *Part 2. B - Now what about that other package we imported -  Pandas*\n",
    "\n",
    "Pandas is a package which we use to enable data set analysis. There are other data structures within Python that we \n",
    "can use as well, for example numpy arrays, dictionaries, and lists. We will focus right now on pandas dataframes.\n",
    "\n",
    "### What is a Pandas DataFrame?\n",
    "\n",
    "A pandas dataframe is a 2D data structure which includes an index and rows and columns of data. These can include ints, floats, strings, etc. \n",
    "\n",
    "A good way to think of a pandas dataframe is an excel spreadsheet which we analyze and interpret with Python. Enough about all this, let's get our hands on some data. \n"
   ]
  },
  {
   "cell_type": "code",
   "execution_count": null,
   "metadata": {},
   "outputs": [],
   "source": [
    "# Within the folder you all downloaded is a data subdirectory with global temperature \n",
    "# anomaly data from following comma seperated values (CSV).\n",
    "\n",
    "# This data is from the following website: \n",
    "# https://www.ncdc.noaa.gov/cag/time-series/global/globe/land/ytd/12/1880-2018\n",
    "\n",
    "# Provided by NOAA National Center for Environmental Information\n",
    "\n",
    "# Global temperature anomaly data come from the Global Historical Climatology \n",
    "# Network-Monthly (GHCN-M) data set and International Comprehensive Ocean-Atmosphere \n",
    "# Data Set (ICOADS), which have data from 1880 to the present. \n",
    "\n",
    "# These data are the timeseries of global-scale temperature anomalies calculated with respect to \n",
    "# the 20th century average.\n",
    "\n",
    "# The following command reads from a csv format into a pandas dataframe and assigns it to our variable\n",
    "# that we named temp_var_global\n",
    "\n",
    "# Note the header=4 argument; this designates four skipped lines before assigned variables. \n",
    "\n",
    "temp_var_global = pd.read_csv('./Data/global_land_ocean_1880_2018_temp_variants.csv', header=4)"
   ]
  },
  {
   "cell_type": "code",
   "execution_count": null,
   "metadata": {},
   "outputs": [],
   "source": [
    "# Let's see if this was read in correctely - you should ALWAYS do this to make sure you read this in. \n",
    "\n",
    "# Check the type - it should be a dataframe.\n",
    "print(type(temp_var_global))\n",
    "\n",
    "# Check the first 10 rows\n",
    "temp_var_global.head(n=10)\n",
    "\n",
    "# Here you can see on the left hand side the index values, followed by the year, then Value. \n",
    "# This data did NOT provide a nice column name for the rows in the CSV file so we have the \n",
    "# 'Value'.\n",
    "\n",
    "# Given the information above and at the website we know that this is the temperature anomoly \n",
    "# for Earth for each year in Celcius."
   ]
  },
  {
   "cell_type": "code",
   "execution_count": null,
   "metadata": {},
   "outputs": [],
   "source": [
    "# You can also check the column values as follows:\n",
    "\n",
    "print(temp_var_global.columns)"
   ]
  },
  {
   "cell_type": "code",
   "execution_count": null,
   "metadata": {},
   "outputs": [],
   "source": [
    "# Let's rename the column so it's not a vague \"Value\".\n",
    "\n",
    "temp_var_global.rename(columns={'Value': 'AnomalyC'}, inplace=True)\n",
    "#inplace = True is to prevent redefining a NEW dataframe object\n",
    "# What would happen if we did not use inplace=True ?\n",
    "\n",
    "# Let's check the columns\n",
    "print(temp_var_global.columns)"
   ]
  },
  {
   "cell_type": "code",
   "execution_count": null,
   "metadata": {},
   "outputs": [],
   "source": [
    "# How about for fun, let's check the 50'th entry?\n",
    "print(temp_var_global.loc[50, 'AnomalyC'])"
   ]
  },
  {
   "cell_type": "code",
   "execution_count": null,
   "metadata": {},
   "outputs": [],
   "source": [
    "# What about the entire row?\n",
    "print(temp_var_global.loc[50, :])\n",
    "\n"
   ]
  },
  {
   "cell_type": "markdown",
   "metadata": {},
   "source": [
    "### Put your nametag down when you have reached this point. Can you guess what : does within this example?\n",
    "'\n",
    "\n",
    "''\n",
    "\n",
    "'''\n",
    "\n",
    "''''\n",
    "\n",
    "'''\n",
    "\n",
    "''\n",
    "\n",
    "'"
   ]
  },
  {
   "cell_type": "markdown",
   "metadata": {},
   "source": [
    "### *Part 2. C - Adding Values into a Dataframe*\n",
    "\n",
    "### Our temperatures are in Celsius, maybe it would make sense to create a column in Farenheit?\n",
    "\n",
    "Formula is: $\\Delta\\mathrm{T}(F) = \\Delta\\mathrm{T}(C) \\times 1.8$ ; for a temperature difference we, skip adding $32$.\n",
    "\n",
    "**Note: Explore the Markdown version of this cell by double-clicking this line.**\n",
    "\n",
    "\n",
    "*This is how we write equations using LaTeX in a Jupyter Notebook.* See https://en.wikibooks.org/wiki/LaTeX/Mathematics for more examples of how to use LaTeX."
   ]
  },
  {
   "cell_type": "code",
   "execution_count": null,
   "metadata": {},
   "outputs": [],
   "source": [
    "# Here we define a NEW column based off the old column.\n",
    "temp_var_global['AnomalyF'] = temp_var_global['AnomalyC'] * 1.8\n",
    "\n",
    "# Let's make sure this did what we wanted.\n",
    "print(temp_var_global.head(n=10))"
   ]
  },
  {
   "cell_type": "code",
   "execution_count": null,
   "metadata": {},
   "outputs": [],
   "source": [
    "# Notice that the dataframe is ordered by year. \n",
    "# What if we instead wanted to order it by temperature anomaly?\n",
    "\n",
    "# Pandas Dataframes have a method for sorting.\n",
    "temp_var_global_sorted = temp_var_global.sort_values(\"AnomalyC\")\n",
    "temp_var_global_sorted.head(10)"
   ]
  },
  {
   "cell_type": "code",
   "execution_count": null,
   "metadata": {},
   "outputs": [],
   "source": [
    "# To find all available methods for any object, one can use \n",
    "# tab completion on the dot operator...\n",
    "# Type \"temp_var_global.\" below, and then press tab \n",
    "# with your cursor next to the dot. (it may take a few seconds to load)\n",
    "\n",
    "\n",
    "\n",
    "\n",
    "\n",
    "\n",
    "\n"
   ]
  },
  {
   "cell_type": "code",
   "execution_count": null,
   "metadata": {},
   "outputs": [],
   "source": [
    "# To find out what each method or attribute is, type the command followed by \"?\"\n",
    "# and run the cell.\n",
    "temp_var_global.sort_values?\n",
    "\n",
    "\n",
    "# You can also find most documentation for Python and various packages online.\n",
    "# E.g. https://pandas.pydata.org/pandas-docs/stable/"
   ]
  },
  {
   "cell_type": "markdown",
   "metadata": {},
   "source": [
    "### We will pause here to discuss what questions have on Pandas or Numpy.\n",
    "\n",
    "'\n",
    "\n",
    "''\n",
    "\n",
    "'''\n",
    "\n",
    "''''\n",
    "\n",
    "'''\n",
    "\n",
    "''\n",
    " \n",
    "'"
   ]
  },
  {
   "cell_type": "markdown",
   "metadata": {},
   "source": [
    "## *Part 3. Basic Plotting*"
   ]
  },
  {
   "cell_type": "code",
   "execution_count": null,
   "metadata": {},
   "outputs": [],
   "source": [
    "# Step one, we import a plotting package.\n",
    "import matplotlib.pyplot as plt\n",
    "\n",
    "# To enable our visualization within within the notebook,\n",
    "# we use the following command\n",
    "%matplotlib inline"
   ]
  },
  {
   "cell_type": "code",
   "execution_count": null,
   "metadata": {},
   "outputs": [],
   "source": [
    "# Define a figure (think of this as a page).\n",
    "fig = plt.figure(figsize=(10, 5))\n",
    "\n",
    "# Let's give it a title.\n",
    "fig.suptitle('Temperature Variants From 1800 - 2018 Global Averages', fontsize=20)\n",
    "\n",
    "# Lets just make a line plot, worry about everything else later\n",
    "plt.plot(temp_var_global['Year'], temp_var_global['AnomalyF'])\n",
    "\n",
    "# And label some axes. \n",
    "plt.ylabel('Anomaly $\\degree$F', fontsize = 20)\n",
    "plt.xlabel('Year', fontsize = 20);\n",
    "\n",
    "# Notice the \";\" at the end of the last line. The semicolon suppresses output. Try running this\n",
    "# cell after removing the semicolon. What does this imply about what the plt.xlabel() method returns?\n",
    "# What do you think the plt.plot() method returns? Why might this be useful?\n",
    "\n",
    "\n",
    "# NOTE: using $COMMANDS$ in a text entry will enable mathematical symbols through LaTeX \n"
   ]
  },
  {
   "cell_type": "markdown",
   "metadata": {},
   "source": [
    "### We will pause here to discuss our opinions on this plot.\n",
    "\n",
    "'\n",
    "\n",
    "''\n",
    "\n",
    "'''\n",
    "\n",
    "''''\n",
    "\n",
    "'''\n",
    "\n",
    "''\n",
    " \n",
    "'"
   ]
  },
  {
   "cell_type": "code",
   "execution_count": null,
   "metadata": {},
   "outputs": [],
   "source": [
    "fig = plt.figure(figsize=(10, 5))\n",
    "fig.suptitle('Temperature Variants From 1880 - 2018 Global Averages', fontsize=20)\n",
    "\n",
    "plt.plot(temp_var_global['Year'], temp_var_global['AnomalyF'])\n",
    "\n",
    "plt.ylabel('Anomaly $\\degree$F', fontsize = 20)\n",
    "plt.xlabel('Year', fontsize = 20)\n",
    "\n",
    "\n",
    "#----------------------------------------- we add the following to our code\n",
    "plt.xticks(fontsize=16) #make the xaxis labels larger\n",
    "plt.yticks(fontsize=16) #make the yaxis labels larger\n",
    "plt.axhline(y=0.0, color='k', linestyle='--') #add a horizontal line at 0\n",
    "plt.grid(color='gray', linestyle='dashed') #add a grid so it's easier to tell if at zero\n",
    "#-----------------------------------------\n"
   ]
  },
  {
   "cell_type": "markdown",
   "metadata": {},
   "source": [
    "\n",
    "### What we loose here in terms of the information presented is that we KNOW that each point has a definitive width of 1 year, it's an average over that year, the chaotic behaivor of the line is more misleading than informative. A bar chart would fix this issue. Go ahead and try out the next plot block. \n",
    "\n",
    "'\n",
    "\n",
    "''\n",
    "\n",
    "'''\n",
    "\n",
    "''''\n",
    "\n",
    "'''\n",
    "\n",
    "''\n",
    " \n",
    "'\n"
   ]
  },
  {
   "cell_type": "code",
   "execution_count": null,
   "metadata": {},
   "outputs": [],
   "source": [
    "fig = plt.figure(figsize=(10, 5))\n",
    "fig.suptitle('Temperature Variants From 1880 - 2018 Global Averages', fontsize=20)\n",
    "\n",
    "#----------------------------------------- we have edited this into a bar chart\n",
    "\n",
    "# Note we make it purple for fun ;)\n",
    "# also the align = 'edge' will align to the left side of the range\n",
    "# width = 0.8 rather than 1 simply to make it appear more interesting. Go ahead and play \n",
    "# with the width to see why it's at 0.8\n",
    "plt.bar(temp_var_global['Year'], temp_var_global['AnomalyF'], width = 0.8, align='edge', \n",
    "        color = 'purple')\n",
    "#----------------------------------------- \n",
    "plt.ylabel('Anomaly $\\degree$F', fontsize = 20)\n",
    "plt.xlabel('Year', fontsize = 20)\n",
    "\n",
    "plt.xticks(fontsize=16)\n",
    "plt.yticks(fontsize=16)\n",
    "plt.axhline(y=0.0, color='k', linestyle='--')\n",
    "\n",
    "plt.grid(color='gray', linestyle='dashed')\n"
   ]
  },
  {
   "cell_type": "markdown",
   "metadata": {},
   "source": [
    "## *Part 4 - More advanced plotting*\n",
    "\n",
    "So while purple was fun, that's not really the main message of this chart. We want to show when it's greater than zero, and less than zero. It would be best if these were actually different colors.\n",
    "\n",
    "Remember how we set this equal to purple? We can also assign a column JUST for colors in our dataframe so that each bar could have different colors when we plot it. There are two more obvious ways to go about this. In both ways our goal is to create a NEW column in the data frame with the colors of the bars where if less than zero we make blue ('b'), greater than we make red ('r').\n",
    "\n",
    "#### Come up with an idea of how you would do this. Do not look below to gain inspiration. \n",
    "#### Then discuss your ideas with your neighbor. Be ready to share with the class. \n",
    "\n",
    "\n",
    "\n",
    "'\n",
    "\n",
    "''\n",
    "\n",
    "\n",
    "'''\n",
    "\n",
    "''''\n",
    "\n",
    "'''\n",
    "\n",
    "''\n",
    "\n",
    "'"
   ]
  },
  {
   "cell_type": "markdown",
   "metadata": {},
   "source": [
    "The two ways we are going to learn in this laboratory are as follows. \n",
    "\n",
    "Way 1)\n",
    "\n",
    "- The tried and true brute force method of using a for loop to loop over every data value in our array, create a new column, and fill with what color we want it to be. \n",
    "\n",
    "Way 2)\n",
    "\n",
    "- Use the built-in methods of objects (in this case pandas.DataFrame) to avoid writing extensive loop structures\n",
    "\n",
    "\n",
    "Let's start with way one. "
   ]
  },
  {
   "cell_type": "markdown",
   "metadata": {},
   "source": [
    "### *Part 4. A. METHOD ONE  - For Loops.*"
   ]
  },
  {
   "cell_type": "code",
   "execution_count": null,
   "metadata": {},
   "outputs": [],
   "source": [
    "\n",
    "# Set up new column just for colors, and fill with 'g' for now. We will know if we did \n",
    "# Something wrong when we plot it because it will be green\n",
    "temp_var_global['Colors'] = 'g'\n",
    "\n",
    "# Now we want to \"loop over\" our data frame, setting each value in the frame in the column of \n",
    "#'Colors' to a set value. \n",
    "\n",
    "# What do I mean by a for loop? Here's an example, remember our numpy array from earlier? \n",
    "for i in range(len(example_array)):\n",
    "    print(\"The value of example_array at index {1} is {0}.\".format(example_array[i], i))\n",
    "    "
   ]
  },
  {
   "cell_type": "code",
   "execution_count": null,
   "metadata": {},
   "outputs": [],
   "source": [
    "# What if we want to count each entry? There's a function called enumerate for numpy arrays\n",
    "# note it starts at zero. \n",
    "# The following produces the same as the previous for loop.\n",
    "\n",
    "# this will loop over the pair index AND entry\n",
    "for index, entry in enumerate(example_array):\n",
    "    print(\"The value of the array at index {} is {}.\".format(index, entry))"
   ]
  },
  {
   "cell_type": "markdown",
   "metadata": {},
   "source": [
    "### Now let's apply what we learned from the for loops to the dataframe."
   ]
  },
  {
   "cell_type": "code",
   "execution_count": null,
   "metadata": {},
   "outputs": [],
   "source": [
    "# This one is a bit more complicated...but it's the same basic idea where enumerate for \n",
    "# numpy arrays is replaced with iterrows() for pandas dataframes, which is exactly what \n",
    "# it sounds like, iterate over rows :) \n",
    "\n",
    "for index, row in temp_var_global.iterrows():\n",
    "    #iterrates over the entirty of the dataframe\n",
    "    print(\"At index {} and year {} the value of AnomalyF is: {}\".format(index, row['Year'], \n",
    "                                                                        row['AnomalyF']))\n",
    "    "
   ]
  },
  {
   "cell_type": "code",
   "execution_count": null,
   "metadata": {},
   "outputs": [],
   "source": [
    "# Now lets actually assign colors, we can use if statments here another flow control structure\n",
    "\n",
    "# in words what this loop means: for every entry in our dataframe, see if > 0 or less < 0\n",
    "\n",
    "\n",
    "for index, row in temp_var_global.iterrows():\n",
    "    \n",
    "    #check if greater than 0\n",
    "    if row['AnomalyF'] > 0:\n",
    "        #set value in array as red\n",
    "        temp_var_global.at[index, 'Colors'] = 'red'\n",
    "    \n",
    "    #check if less than 0, or equal to\n",
    "    if row['AnomalyF'] <= 0:\n",
    "        #set value in array as blue\n",
    "        temp_var_global.at[index, 'Colors'] = 'blue'\n",
    "\n",
    "# Note: you can find more pre-defined colors in matplotlib here:\n",
    "# https://matplotlib.org/gallery/color/named_colors.html#sphx-glr-gallery-color-named-colors-py"
   ]
  },
  {
   "cell_type": "markdown",
   "metadata": {},
   "source": [
    "### PAUSE. Think about what is happening in this loop. Explain it to your neighbor. When you are done chatting put your name tag down. \n",
    "\n",
    "'\n",
    "\n",
    "''\n",
    "\n",
    "'''\n",
    "\n",
    "''\n",
    "\n",
    "'"
   ]
  },
  {
   "cell_type": "code",
   "execution_count": null,
   "metadata": {},
   "outputs": [],
   "source": [
    "#let's check to see what this looks like, print from index 50 - 70\n",
    "#print both colors and anomalyF columns\n",
    "\n",
    "print(temp_var_global.loc[50:70, ['Colors', 'AnomalyF']])"
   ]
  },
  {
   "cell_type": "code",
   "execution_count": null,
   "metadata": {},
   "outputs": [],
   "source": [
    "#and now let's plot it!\n",
    "\n",
    "\n",
    "fig = plt.figure(figsize=(10, 5))\n",
    "fig.suptitle('Temperature Variants From 1800 - 2017 Global Averages', fontsize=20)\n",
    "\n",
    "#------------------------------------------------  we edited the following color statement ONLY\n",
    "plt.bar(temp_var_global['Year'], temp_var_global['AnomalyF'], width = 0.8, align='edge', \n",
    "        color = temp_var_global['Colors'])\n",
    "#------------------------------------------------\n",
    "\n",
    "plt.ylabel('Anomaly $\\degree$F', fontsize = 20)\n",
    "plt.xlabel('Year', fontsize = 20)\n",
    "\n",
    "plt.xticks(fontsize=16)\n",
    "plt.yticks(fontsize=16)\n",
    "plt.axhline(y=0.0, color='k', linestyle='--')\n",
    "\n",
    "plt.grid(color='gray', linestyle='dashed')"
   ]
  },
  {
   "cell_type": "markdown",
   "metadata": {},
   "source": [
    "### *Part 4. B. METHOD TWO  - Boolean Indexing.*\n",
    "\n",
    "In general python \"slows down\" with loops. It also allows for better programming LATER (in class) if we use what we\n",
    "call 'Boolean Indexing'.\n",
    "\n",
    "We use those logic statements before for greater or lesser and use them to select positions in the dataframe to then subset into our data. For example, all places with >0, all places with <0\n"
   ]
  },
  {
   "cell_type": "code",
   "execution_count": null,
   "metadata": {},
   "outputs": [],
   "source": [
    "#Step One, create boolean arrays, we call these indexes\n",
    "boolean_index = temp_var_global['AnomalyF'] > 0 \n",
    "\n",
    "print(temp_var_global.loc[0:10, 'AnomalyF'])\n",
    "print(boolean_index[0:10])\n",
    "\n",
    "#let's see what these look like!"
   ]
  },
  {
   "cell_type": "code",
   "execution_count": null,
   "metadata": {},
   "outputs": [],
   "source": [
    "# The tilda operator flips the boolean index to the opposite truth value\n",
    "print(~boolean_index[0:10])"
   ]
  },
  {
   "cell_type": "code",
   "execution_count": null,
   "metadata": {},
   "outputs": [],
   "source": [
    "# Now, rather than the for loop we can set up a different system\n",
    "temp_var_global['Colors2'] = 'k'\n",
    "temp_var_global.loc[boolean_index, 'Colors2'] = '#9F4E58' \n",
    "temp_var_global.loc[~boolean_index, 'Colors2'] = '#64ACEA'\n",
    "# To customize our colors we use hex code - check out this website. \n",
    "#http://www.color-hex.com/color/90537c\n",
    "print(temp_var_global.loc[0:10, ['Colors', 'Colors2']])"
   ]
  },
  {
   "cell_type": "code",
   "execution_count": null,
   "metadata": {},
   "outputs": [],
   "source": [
    "fig = plt.figure(figsize=(10, 5))\n",
    "fig.suptitle('Temperature Variants From 1800 - 2017 Global Averages', fontsize=20)\n",
    "\n",
    "#-------- we edited the following color statement ONLY\n",
    "plt.bar(temp_var_global['Year'], temp_var_global['AnomalyF'], width = 0.8, align='edge', \n",
    "        color = temp_var_global['Colors2'])\n",
    "#----------\n",
    "\n",
    "plt.ylabel('Anomaly $\\degree$F', fontsize = 20)\n",
    "plt.xlabel('Year', fontsize = 20)\n",
    "\n",
    "plt.xticks(fontsize=16)\n",
    "plt.yticks(fontsize=16)\n",
    "plt.axhline(y=0.0, color='k', linestyle='--')\n",
    "\n",
    "plt.grid(color='gray', linestyle='dashed')\n",
    "\n",
    "#how to save figures - \n",
    "#this first command will not save with a white background, the second will\n",
    "plt.savefig('./Figures/TempVariants_GlobalYearlyAverages_Transparent.png', transparent=True)\n",
    "plt.savefig('./Figures/TempVariants_GlobalYearlyAverages.png')\n",
    "\n",
    "\n",
    "\n",
    "#please go see within your Jupyter folder the .png file"
   ]
  },
  {
   "cell_type": "markdown",
   "metadata": {},
   "source": [
    "### How did the methods we learn differ and compare to each other? The for loop vs the boolean index method? Specifically, did you like one more than the other?\n",
    "\n",
    "'\n",
    "\n",
    "''\n",
    "\n",
    "'''\n",
    "\n",
    "''''\n",
    "\n",
    "'''\n",
    "\n",
    "''\n",
    "\n",
    "'"
   ]
  },
  {
   "cell_type": "markdown",
   "metadata": {},
   "source": [
    "# SUMMARY\n",
    "\n",
    "From this lab you have learned the basics of python packages including: numpy, pandas, and matplotlib.pyplot. \n",
    "\n",
    "We have also learned about flow control structures (for loops, if statements) and how to access a pandas data frame through boolean indexing and through normal indexing and how to manipulate various columns here. \n",
    "\n",
    "Next time we will continue our learning of Python.\n",
    "\n",
    "Homework: Please complete Assignment 1 located on Canvas - due in 1 week on Wednesday, January 22. Office hours will be held on Friday from 1-3pm in CSRB 2218 (two days from now). If this time doesn't work please email us and we can arrange seperate hours."
   ]
  },
  {
   "cell_type": "markdown",
   "metadata": {},
   "source": [
    "'\n",
    "\n",
    "''\n",
    "\n",
    "'''\n",
    "\n",
    "''\n",
    "\n",
    "'"
   ]
  },
  {
   "cell_type": "markdown",
   "metadata": {},
   "source": [
    "### Additional Material - Error propagation and reporting\n",
    "\n",
    "Suppose many people took measurements of the length and width of the CSRB and found:\n",
    "\n",
    "Length = $112.1 \\pm 0.4 \\mathrm{m}$\n",
    "\n",
    "Width  = $55.5 \\pm 0.5 \\mathrm{m}$\n",
    "\n",
    "\n",
    "How would you report the area, including uncertainty, of the footprint of the building?"
   ]
  },
  {
   "cell_type": "markdown",
   "metadata": {},
   "source": [
    "We know that Area = Length x Width $\\pm$ $\\delta A$, where \n",
    "\n",
    "$$\\delta A = \\sqrt{\\left(\\frac{\\partial A}{\\partial w} \\delta w \\right)^2 +  \\left(\\frac{\\partial A}{\\partial l} \\delta l \\right)^2 }$$\n",
    "\n",
    "This is equivalent to:\n",
    "\n",
    "$$ \\frac{\\delta A}{A} = \\sqrt{\\left(\\frac{\\delta w}{w} \\right)^2 + \\left(\\frac{\\delta l}{l} \\right)^2}$$\n",
    "\n",
    "\n",
    "Let's see how this looks in code!"
   ]
  },
  {
   "cell_type": "code",
   "execution_count": null,
   "metadata": {},
   "outputs": [],
   "source": [
    "# Assign values given in problem.\n",
    "length, width = 112.1, 55.5\n",
    "dl, dw = 0.4, 0.5\n",
    "\n",
    "# Calculate Area\n",
    "area = length * width\n",
    "\n",
    "# Calculate error propagation; we will import from Python's built-in math module\n",
    "from math import sqrt\n",
    "\n",
    "# Using the first equation; note in Python the exponent operator is **\n",
    "dA = sqrt((length * dw)**2 + (width * dl)**2)\n",
    "\n",
    "# Let's calculate dA using the second equation\n",
    "dA_over_A = sqrt((dw / width)**2 + (dl / length)**2)\n",
    "\n",
    "# And to get dA, we will need to multiply by our calculated Area.\n",
    "dA_2 = dA_over_A * area"
   ]
  },
  {
   "cell_type": "code",
   "execution_count": null,
   "metadata": {
    "scrolled": true
   },
   "outputs": [],
   "source": [
    "# Are the two equations above equal?\n",
    "dA == dA_2  # == is a boolean operator that tests for equality, can also use != for not equal"
   ]
  },
  {
   "cell_type": "markdown",
   "metadata": {},
   "source": [
    "We are now ready to report our calculation and uncertainty."
   ]
  },
  {
   "cell_type": "code",
   "execution_count": null,
   "metadata": {},
   "outputs": [],
   "source": [
    "print(\"Area = {} +\\- {}\".format(area, dA))"
   ]
  },
  {
   "cell_type": "markdown",
   "metadata": {},
   "source": [
    "**Don't forget to use significant figures and units!**\n",
    "\n"
   ]
  },
  {
   "cell_type": "code",
   "execution_count": null,
   "metadata": {},
   "outputs": [],
   "source": [
    "print(\"Area = {0:0.1f} +/- {1:0.1f} m^2\".format(area, dA))"
   ]
  },
  {
   "cell_type": "markdown",
   "metadata": {},
   "source": [
    "You can find more about formatting strings in Python in the documentation.\n",
    "\n",
    "See Format Specification Mini-Language on the webpage:\n",
    "\n",
    "https://docs.python.org/3.7/library/string.html"
   ]
  },
  {
   "cell_type": "markdown",
   "metadata": {},
   "source": [
    "We can also use a markdown cell to explicitly type in our answers, and use $\\LaTeX$ to make it look presentable.\n",
    "\n",
    "**Here is the preferred way to report our calculation**:\n",
    "\n",
    "$$ A = 6221.5 \\pm 60.3 \\mathrm{m}^2 $$"
   ]
  },
  {
   "cell_type": "markdown",
   "metadata": {},
   "source": [
    "For help on Markdown and LaTeX syntax, see:\n",
    "\n",
    "https://www.markdownguide.org/cheat-sheet/\n",
    "\n",
    "https://en.wikibooks.org/wiki/LaTeX/Mathematics"
   ]
  }
 ],
 "metadata": {
  "kernelspec": {
   "display_name": "Python 3",
   "language": "python",
   "name": "python3"
  },
  "language_info": {
   "codemirror_mode": {
    "name": "ipython",
    "version": 3
   },
   "file_extension": ".py",
   "mimetype": "text/x-python",
   "name": "python",
   "nbconvert_exporter": "python",
   "pygments_lexer": "ipython3",
   "version": "3.7.3"
  }
 },
 "nbformat": 4,
 "nbformat_minor": 2
}
