{
 "cells": [
  {
   "cell_type": "markdown",
   "metadata": {},
   "source": [
    "# Lab One - Climatic Averages \n",
    "\n",
    "## *Analyzing the Global Temperatures Divergence from Average from 1880 - 2018*\n",
    "\n",
    "In this lab we learn part 1 basics of Python (the programming commands) for data analysis through utilizing the Jupyter environment (this display) to analyze data. \n",
    "\n",
    "You will learn how to: \n",
    "\n",
    "\n",
    "- Use Jupyter\n",
    "- Read in a CSV (comma seperated data file) into a data format for analysis\n",
    "- Implement Simple Flow Structures (for loops, if statements)\n",
    "- Plotting Basics (line plots, bar charts, and colors)\n",
    "- Indexing (simple, and boolean indexing)\n",
    "- Use the following data structures: numpy arrays and Pandas dataframes\n",
    "- Use hex codes for colors\n",
    "\n",
    "By the end of this lab you should be able to: read in simple data from CSV, use boolean indexing, and make a line plot / bar chart\n",
    "\n",
    "Additional materials for reading and reference: Igual & Seguí Chapter 1 Chapter 2: Sections 2.1 through 2.6.2 \n",
    "\n",
    "More on Jupyter here:\n",
    "    http://jupyter-notebook.readthedocs.io/en/stable/notebook.html"
   ]
  },
  {
   "cell_type": "markdown",
   "metadata": {},
   "source": [
    "## *Part 1 - What is Jupyter?*\n",
    "\n",
    "\n",
    "\n",
    "Jupyter is a interactive environment (for example this Notebook is in Jupyter) where we can explore how a programming language, i.e. Python, works. I like to think of this as a display format which is mixed text like this box and code in the next box - we will be doing the first lab reports using Jupyter. Note this is not the only way to run Python. \n",
    "\n",
    "### Running Cells: \n",
    "- You can \"run\" various cells at a time by hitting shift-enter OR by hitting run after selecting a cell through the menu. Note you can run blocks of cells (say before or after a certain line through the Cell tab as well)\n",
    "\n",
    "### Types of Cells: \n",
    "- You can have cells as programming commands or as text. You can switch between programming language and text through the Cell -> Markdown option. \n",
    "\n",
    "### Editing Cells: \n",
    "- To edit a cell - double click in the cell to interact with the program. \n",
    "\n",
    "\n",
    "### Interactive Exercise 1!\n",
    "\n",
    "Let's try this out! We have two blank cells below. In the first cell type the following: \n",
    "print('Python is awesome')\n",
    "\n",
    "In the next cell type the same words, but this time switch the cell to \"Markdown\" through the cell menu. \n",
    "\n",
    "Then run both cells through typing Shift+Enter OR Chitting the Run button above. \n",
    "\n",
    "When you are done please put your nametag down. We will discuss shortly!"
   ]
  },
  {
   "cell_type": "code",
   "execution_count": 1,
   "metadata": {},
   "outputs": [],
   "source": [
    "# This is cell one - type your commands below.\n",
    "\n",
    "# In Python a '#' is a comment, anything after this \n",
    "# will not be evaluated as a command.\n",
    "\n",
    "\n",
    "\n"
   ]
  },
  {
   "cell_type": "code",
   "execution_count": 2,
   "metadata": {},
   "outputs": [],
   "source": [
    "# This is cell two - type your commands below.\n",
    "\n",
    "\n",
    "\n"
   ]
  },
  {
   "cell_type": "markdown",
   "metadata": {},
   "source": [
    "<br>\n",
    "<br>\n",
    "<br>\n",
    "<br>\n",
    "<br>\n",
    "<br>\n",
    "<br>\n",
    "<br>\n",
    "<br>\n",
    "<br>\n",
    "<br>\n",
    "<br>\n",
    "<br>\n",
    "<br>\n",
    "<br>\n",
    "<br>\n",
    "<br>\n",
    "<br>\n",
    "<br>\n",
    "<br>\n",
    "<br>\n",
    "<br>\n",
    "<br>\n",
    "\n",
    "### Why are we using Jupyter? \n",
    "\n",
    "There are many ways to use Python. We are starting with Jupyter because (1) it allows us to learn together, (2) by using Jupyter you can enable a lot of self-learning (post class) on your own, and finally (3) your lab reports are much more interesting to complete. You get to turn in great Notebooks that are pre-evaluated. This means if you wrote half your code down but half didn't work, we can still give you partial credit. Wahoo! Becoming a coding expert takes time and effort, we want to reward this effort.  "
   ]
  },
  {
   "cell_type": "markdown",
   "metadata": {},
   "source": [
    "## *Part 2 - What is Python and why are we using it?*\n",
    "\n",
    "Python is an object oriented programming, interpreted language. This means it has 'objects' which have certain rules or methods and attributes which you can access to run programming. The interpreted part means that there is no compilation. The interpreter reads code line by line from beginning to end. This Notebook is running a version of Python called Interactive Python, or IPython. We will see the benefits of using IPython in action in this first lab. We have already seen the print command above and compared markdown cells to programming cells. \n",
    "\n",
    "### *Part 2. A - Let's start by importing some packages*"
   ]
  },
  {
   "cell_type": "code",
   "execution_count": 3,
   "metadata": {},
   "outputs": [
    {
     "name": "stdout",
     "output_type": "stream",
     "text": [
      "[0 2 4 6 8]\n"
     ]
    }
   ],
   "source": [
    "# Think of packages like enabling different levels of a game. \n",
    "# The hashtag we use to make a comment, this line can be used so that the computer skips \n",
    "# reading this code.\n",
    "\n",
    "import numpy as np\n",
    "import pandas as pd\n",
    "\n",
    "# These two packages enable data analysis through various objects (and their methods) and \n",
    "# data types. \n",
    "\n",
    "# For example, you can create a numpy array - 1D data array - of numbers as follows:\n",
    "\n",
    "# This creates an arrange from 0 up to 10 but not including 10, every second value.\n",
    "example_array = np.arange(0, 10, 2)\n",
    "\n",
    "# You can see this as follows with the following print command we saw earlier.\n",
    "print(example_array)"
   ]
  },
  {
   "cell_type": "code",
   "execution_count": 4,
   "metadata": {},
   "outputs": [
    {
     "data": {
      "text/plain": [
       "numpy.ndarray"
      ]
     },
     "execution_count": 4,
     "metadata": {},
     "output_type": "execute_result"
    }
   ],
   "source": [
    "# Each object in Python has a type, in this case we see that it is a numpy array.\n",
    "type(example_array)"
   ]
  },
  {
   "cell_type": "code",
   "execution_count": 5,
   "metadata": {},
   "outputs": [
    {
     "name": "stdout",
     "output_type": "stream",
     "text": [
      "0\n",
      "2\n"
     ]
    }
   ],
   "source": [
    "# We can access different values within an array with indexing, for example:\n",
    "\n",
    "print(example_array[0]) #print index 0 value\n",
    "print(example_array[1]) #print index 1 value\n",
    "\n",
    "# Note that we start with index 0, meaning the final index of an array with length N is N-1"
   ]
  },
  {
   "cell_type": "code",
   "execution_count": 6,
   "metadata": {},
   "outputs": [
    {
     "name": "stdout",
     "output_type": "stream",
     "text": [
      "0 has type <class 'numpy.int64'>\n",
      "5 has type <class 'int'>\n",
      "5.0 has type <class 'float'>\n"
     ]
    }
   ],
   "source": [
    "# Types also include, integers (non-decimal numbers), floats (decmial numbers), strings (words), many others...\n",
    "\n",
    "# For example\n",
    "first_entry = example_array[0]\n",
    "print('{} has type {}'.format(first_entry, type(first_entry)))\n",
    "\n",
    "example_int = 5\n",
    "print('{} has type {}'.format(example_int, type(example_int)))\n",
    "\n",
    "# We can also (sometimes) change the type of certain objects.\n",
    "example_float = float(example_int)\n",
    "print('{} has type {}'.format(example_float, type(example_float)))\n",
    "\n",
    "\n",
    "# If you get a type error when you run code, use these type commands to see what is the \n",
    "# issue, most likely you are trying to do something that can not be done to a string, \n",
    "# or an integer etc. \n",
    "\n",
    "# Note the type of this number is an numpy int64\n",
    "# as compared to the type of of example int which is JUST int\n",
    "# Regular Python integers are flexible sized while numpy integers are fixed size.\n",
    "# The fixed size allows for faster computations!"
   ]
  },
  {
   "cell_type": "markdown",
   "metadata": {},
   "source": [
    "### Interactive Exercise 2!\n",
    "\n",
    "What do you think printing the index of -1 would output? We saw indexing of 0 and 1 before -\n",
    "in the following cell print the value in the ExampleArray located at -1 index. When done put \n",
    "your nametags down. While you wait for others to finish, what do you think this \n",
    "implies about indexing in Python? How could this be advantageous? When might it become a problem?\n"
   ]
  },
  {
   "cell_type": "code",
   "execution_count": 8,
   "metadata": {},
   "outputs": [
    {
     "name": "stdout",
     "output_type": "stream",
     "text": [
      "8\n"
     ]
    }
   ],
   "source": [
    "###write your command below\n",
    "\n",
    "print(example_array[-1])\n"
   ]
  },
  {
   "cell_type": "markdown",
   "metadata": {},
   "source": [
    "<br>\n",
    "<br>\n",
    "<br>\n",
    "<br>\n",
    "<br>\n",
    "<br>\n",
    "<br>\n",
    "<br>\n",
    "<br>\n",
    "<br>\n",
    "<br>\n",
    "\n",
    "### *Part 2. B - Now what about that other package we imported -  Pandas*\n",
    "\n",
    "Pandas is a package which we use to enable data set analysis. There are other data structures within Python that we \n",
    "can use as well, for example numpy arrays, dictionaries, and lists. We will focus right now on pandas dataframes.\n",
    "\n",
    "### What is a Pandas DataFrame?\n",
    "\n",
    "A pandas dataframe is a 2D data structure which includes an index and rows and columns of data. These can include ints, floats, strings, etc. \n",
    "\n",
    "A good way to think of a pandas dataframe is an excel spreadsheet which we analyze and interpret with Python. Enough about all this, let's get our hands on some data. \n"
   ]
  },
  {
   "cell_type": "code",
   "execution_count": 9,
   "metadata": {},
   "outputs": [],
   "source": [
    "# Within the folder you all downloaded is a data subdirectory with global temperature \n",
    "# anomaly data from following comma seperated values (CSV).\n",
    "\n",
    "# This data is from the following website: \n",
    "# https://www.ncdc.noaa.gov/cag/time-series/global/globe/land/ytd/12/1880-2018\n",
    "\n",
    "# Provided by NOAA National Center for Environmental Information\n",
    "\n",
    "# Global temperature anomaly data come from the Global Historical Climatology \n",
    "# Network-Monthly (GHCN-M) data set and International Comprehensive Ocean-Atmosphere \n",
    "# Data Set (ICOADS), which have data from 1880 to the present. \n",
    "\n",
    "# These data are the timeseries of global-scale temperature anomalies calculated with respect to \n",
    "# the 20th century average.\n",
    "\n",
    "# The following command reads from a csv format into a pandas dataframe and assigns it to our variable\n",
    "# that we named temp_var_global\n",
    "\n",
    "# Note the header=4 argument; this designates four skipped lines before assigned variables. \n",
    "\n",
    "temp_var_global = pd.read_csv('./Data/global_land_ocean_1880_2018_temp_variants.csv', header=4)"
   ]
  },
  {
   "cell_type": "code",
   "execution_count": 10,
   "metadata": {},
   "outputs": [
    {
     "name": "stdout",
     "output_type": "stream",
     "text": [
      "<class 'pandas.core.frame.DataFrame'>\n"
     ]
    },
    {
     "data": {
      "text/html": [
       "<div>\n",
       "<style scoped>\n",
       "    .dataframe tbody tr th:only-of-type {\n",
       "        vertical-align: middle;\n",
       "    }\n",
       "\n",
       "    .dataframe tbody tr th {\n",
       "        vertical-align: top;\n",
       "    }\n",
       "\n",
       "    .dataframe thead th {\n",
       "        text-align: right;\n",
       "    }\n",
       "</style>\n",
       "<table border=\"1\" class=\"dataframe\">\n",
       "  <thead>\n",
       "    <tr style=\"text-align: right;\">\n",
       "      <th></th>\n",
       "      <th>Year</th>\n",
       "      <th>Value</th>\n",
       "    </tr>\n",
       "  </thead>\n",
       "  <tbody>\n",
       "    <tr>\n",
       "      <th>0</th>\n",
       "      <td>1880</td>\n",
       "      <td>-0.12</td>\n",
       "    </tr>\n",
       "    <tr>\n",
       "      <th>1</th>\n",
       "      <td>1881</td>\n",
       "      <td>-0.09</td>\n",
       "    </tr>\n",
       "    <tr>\n",
       "      <th>2</th>\n",
       "      <td>1882</td>\n",
       "      <td>-0.10</td>\n",
       "    </tr>\n",
       "    <tr>\n",
       "      <th>3</th>\n",
       "      <td>1883</td>\n",
       "      <td>-0.18</td>\n",
       "    </tr>\n",
       "    <tr>\n",
       "      <th>4</th>\n",
       "      <td>1884</td>\n",
       "      <td>-0.27</td>\n",
       "    </tr>\n",
       "    <tr>\n",
       "      <th>5</th>\n",
       "      <td>1885</td>\n",
       "      <td>-0.25</td>\n",
       "    </tr>\n",
       "    <tr>\n",
       "      <th>6</th>\n",
       "      <td>1886</td>\n",
       "      <td>-0.24</td>\n",
       "    </tr>\n",
       "    <tr>\n",
       "      <th>7</th>\n",
       "      <td>1887</td>\n",
       "      <td>-0.28</td>\n",
       "    </tr>\n",
       "    <tr>\n",
       "      <th>8</th>\n",
       "      <td>1888</td>\n",
       "      <td>-0.13</td>\n",
       "    </tr>\n",
       "    <tr>\n",
       "      <th>9</th>\n",
       "      <td>1889</td>\n",
       "      <td>-0.08</td>\n",
       "    </tr>\n",
       "  </tbody>\n",
       "</table>\n",
       "</div>"
      ],
      "text/plain": [
       "   Year  Value\n",
       "0  1880  -0.12\n",
       "1  1881  -0.09\n",
       "2  1882  -0.10\n",
       "3  1883  -0.18\n",
       "4  1884  -0.27\n",
       "5  1885  -0.25\n",
       "6  1886  -0.24\n",
       "7  1887  -0.28\n",
       "8  1888  -0.13\n",
       "9  1889  -0.08"
      ]
     },
     "execution_count": 10,
     "metadata": {},
     "output_type": "execute_result"
    }
   ],
   "source": [
    "# Let's see if this was read in correctely - you should ALWAYS do this to make sure you read this in. \n",
    "\n",
    "# Check the type - it should be a dataframe.\n",
    "print(type(temp_var_global))\n",
    "\n",
    "# Check the first 10 rows\n",
    "temp_var_global.head(n=10)\n",
    "\n",
    "# Here you can see on the left hand side the index values, followed by the year, then Value. \n",
    "# This data did NOT provide a nice column name for the rows in the CSV file so we have the \"Value\".\n",
    "\n",
    "# Given the information above and at the website we know that this is the temperature anomoly \n",
    "# for Earth for each year in Celcius."
   ]
  },
  {
   "cell_type": "code",
   "execution_count": 11,
   "metadata": {},
   "outputs": [
    {
     "name": "stdout",
     "output_type": "stream",
     "text": [
      "Index(['Year', 'Value'], dtype='object')\n"
     ]
    }
   ],
   "source": [
    "# You can also check the column values as follows:\n",
    "\n",
    "print(temp_var_global.columns)"
   ]
  },
  {
   "cell_type": "code",
   "execution_count": 12,
   "metadata": {},
   "outputs": [
    {
     "name": "stdout",
     "output_type": "stream",
     "text": [
      "     Year  AnomalyC\n",
      "0    1880     -0.12\n",
      "1    1881     -0.09\n",
      "2    1882     -0.10\n",
      "3    1883     -0.18\n",
      "4    1884     -0.27\n",
      "..    ...       ...\n",
      "134  2014      0.74\n",
      "135  2015      0.93\n",
      "136  2016      0.99\n",
      "137  2017      0.91\n",
      "138  2018      0.83\n",
      "\n",
      "[139 rows x 2 columns]\n"
     ]
    }
   ],
   "source": [
    "# Let's rename the column so it's not a vague \"Value\".\n",
    "\n",
    "temp_var_global.rename(columns={'Value': 'AnomalyC'}, inplace=True)\n",
    "#inplace = True is to prevent redefining a NEW dataframe object\n",
    "# What would happen if we did not use inplace=True ?\n",
    "\n",
    "# Let's check the columns\n",
    "print(temp_var_global)"
   ]
  },
  {
   "cell_type": "code",
   "execution_count": 13,
   "metadata": {},
   "outputs": [
    {
     "name": "stdout",
     "output_type": "stream",
     "text": [
      "Year        1930.00\n",
      "AnomalyC      -0.11\n",
      "Name: 50, dtype: float64\n"
     ]
    }
   ],
   "source": [
    "# How about for fun, let's check the 50'th entry?\n",
    "print(temp_var_global.loc[50])"
   ]
  },
  {
   "cell_type": "code",
   "execution_count": 14,
   "metadata": {},
   "outputs": [
    {
     "name": "stdout",
     "output_type": "stream",
     "text": [
      "Year        1930.00\n",
      "AnomalyC      -0.11\n",
      "Name: 50, dtype: float64\n"
     ]
    }
   ],
   "source": [
    "# What about the entire row?\n",
    "print(temp_var_global.loc[50, :])"
   ]
  },
  {
   "cell_type": "markdown",
   "metadata": {},
   "source": [
    "### Put your nametag down when you have reached this point. Can you guess what : does within this example?\n",
    "\n",
    "<br>\n",
    "<br>\n",
    "<br>\n",
    "<br>\n",
    "<br>\n",
    "<br>\n",
    "<br>\n",
    "<br>\n",
    "<br>\n",
    "<br>\n",
    "<br>\n",
    "<br>\n",
    "<br>\n",
    "<br>\n",
    "<br>\n",
    "<br>\n",
    "\n"
   ]
  },
  {
   "cell_type": "markdown",
   "metadata": {},
   "source": [
    "### *Part 2. C - Adding Values into a Dataframe*\n",
    "\n",
    "### Our temperatures are in Celsius, maybe it would make sense to create a column in Farenheit?\n",
    "\n",
    "Formula is: $\\Delta\\mathrm{T}(F) = \\Delta\\mathrm{T}(C) \\times 1.8$ ; for a temperature difference we, skip adding $32$.\n",
    "\n",
    "**Note: Explore the Markdown version of this cell by double-clicking this line.**\n",
    "\n",
    "\n",
    "*This is how we write equations using LaTeX in a Jupyter Notebook.* See https://en.wikibooks.org/wiki/LaTeX/Mathematics for more examples of how to use LaTeX."
   ]
  },
  {
   "cell_type": "code",
   "execution_count": 15,
   "metadata": {},
   "outputs": [
    {
     "name": "stdout",
     "output_type": "stream",
     "text": [
      "   Year  AnomalyC  AnomalyF\n",
      "0  1880     -0.12    -0.216\n",
      "1  1881     -0.09    -0.162\n",
      "2  1882     -0.10    -0.180\n",
      "3  1883     -0.18    -0.324\n",
      "4  1884     -0.27    -0.486\n",
      "5  1885     -0.25    -0.450\n",
      "6  1886     -0.24    -0.432\n",
      "7  1887     -0.28    -0.504\n",
      "8  1888     -0.13    -0.234\n",
      "9  1889     -0.08    -0.144\n"
     ]
    }
   ],
   "source": [
    "# Here we define a NEW column based off the old column.\n",
    "temp_var_global['AnomalyF'] = temp_var_global['AnomalyC'] * 1.8\n",
    "\n",
    "# Let's make sure this did what we wanted.\n",
    "print(temp_var_global.head(n=10))"
   ]
  },
  {
   "cell_type": "code",
   "execution_count": 16,
   "metadata": {},
   "outputs": [
    {
     "data": {
      "text/html": [
       "<div>\n",
       "<style scoped>\n",
       "    .dataframe tbody tr th:only-of-type {\n",
       "        vertical-align: middle;\n",
       "    }\n",
       "\n",
       "    .dataframe tbody tr th {\n",
       "        vertical-align: top;\n",
       "    }\n",
       "\n",
       "    .dataframe thead th {\n",
       "        text-align: right;\n",
       "    }\n",
       "</style>\n",
       "<table border=\"1\" class=\"dataframe\">\n",
       "  <thead>\n",
       "    <tr style=\"text-align: right;\">\n",
       "      <th></th>\n",
       "      <th>Year</th>\n",
       "      <th>AnomalyC</th>\n",
       "      <th>AnomalyF</th>\n",
       "    </tr>\n",
       "  </thead>\n",
       "  <tbody>\n",
       "    <tr>\n",
       "      <th>0</th>\n",
       "      <td>1904</td>\n",
       "      <td>-0.46</td>\n",
       "      <td>-0.828</td>\n",
       "    </tr>\n",
       "    <tr>\n",
       "      <th>1</th>\n",
       "      <td>1911</td>\n",
       "      <td>-0.45</td>\n",
       "      <td>-0.810</td>\n",
       "    </tr>\n",
       "    <tr>\n",
       "      <th>2</th>\n",
       "      <td>1909</td>\n",
       "      <td>-0.44</td>\n",
       "      <td>-0.792</td>\n",
       "    </tr>\n",
       "    <tr>\n",
       "      <th>3</th>\n",
       "      <td>1908</td>\n",
       "      <td>-0.43</td>\n",
       "      <td>-0.774</td>\n",
       "    </tr>\n",
       "    <tr>\n",
       "      <th>4</th>\n",
       "      <td>1910</td>\n",
       "      <td>-0.40</td>\n",
       "      <td>-0.720</td>\n",
       "    </tr>\n",
       "    <tr>\n",
       "      <th>5</th>\n",
       "      <td>1917</td>\n",
       "      <td>-0.40</td>\n",
       "      <td>-0.720</td>\n",
       "    </tr>\n",
       "    <tr>\n",
       "      <th>6</th>\n",
       "      <td>1907</td>\n",
       "      <td>-0.38</td>\n",
       "      <td>-0.684</td>\n",
       "    </tr>\n",
       "    <tr>\n",
       "      <th>7</th>\n",
       "      <td>1903</td>\n",
       "      <td>-0.38</td>\n",
       "      <td>-0.684</td>\n",
       "    </tr>\n",
       "    <tr>\n",
       "      <th>8</th>\n",
       "      <td>1890</td>\n",
       "      <td>-0.34</td>\n",
       "      <td>-0.612</td>\n",
       "    </tr>\n",
       "    <tr>\n",
       "      <th>9</th>\n",
       "      <td>1912</td>\n",
       "      <td>-0.34</td>\n",
       "      <td>-0.612</td>\n",
       "    </tr>\n",
       "  </tbody>\n",
       "</table>\n",
       "</div>"
      ],
      "text/plain": [
       "   Year  AnomalyC  AnomalyF\n",
       "0  1904     -0.46    -0.828\n",
       "1  1911     -0.45    -0.810\n",
       "2  1909     -0.44    -0.792\n",
       "3  1908     -0.43    -0.774\n",
       "4  1910     -0.40    -0.720\n",
       "5  1917     -0.40    -0.720\n",
       "6  1907     -0.38    -0.684\n",
       "7  1903     -0.38    -0.684\n",
       "8  1890     -0.34    -0.612\n",
       "9  1912     -0.34    -0.612"
      ]
     },
     "execution_count": 16,
     "metadata": {},
     "output_type": "execute_result"
    }
   ],
   "source": [
    "# Notice that the dataframe is ordered by year. \n",
    "# What if we instead wanted to order it by temperature anomaly?\n",
    "\n",
    "# Pandas Dataframes have a method for sorting.\n",
    "temp_var_global_sorted = temp_var_global.sort_values(\"AnomalyC\", ignore_index=True)\n",
    "temp_var_global_sorted.head(10)"
   ]
  },
  {
   "cell_type": "code",
   "execution_count": null,
   "metadata": {},
   "outputs": [],
   "source": [
    "# To find all available methods for any object, one can use \n",
    "# tab completion on the dot operator...\n",
    "# Type \"temp_var_global.\" below, and then press tab \n",
    "# with your cursor next to the dot. (it may take a few seconds to load)\n",
    "\n",
    "\n",
    "temp_var_global.\n",
    "\n",
    "\n",
    "\n",
    "\n"
   ]
  },
  {
   "cell_type": "code",
   "execution_count": 17,
   "metadata": {},
   "outputs": [],
   "source": [
    "# To find out what each method or attribute is, type the command followed by \"?\"\n",
    "# and run the cell.\n",
    "temp_var_global.sort_values?\n",
    "\n",
    "\n",
    "# You can also find most documentation for Python and various packages online.\n",
    "# E.g. https://pandas.pydata.org/pandas-docs/stable/"
   ]
  },
  {
   "cell_type": "markdown",
   "metadata": {},
   "source": [
    "### We will pause here to discuss what questions have on Pandas or Numpy.\n",
    "\n",
    "<br>\n",
    "<br>\n",
    "<br>\n",
    "<br>\n",
    "<br>\n",
    "<br>\n",
    "<br>\n",
    "<br>\n",
    "<br>\n",
    "<br>\n",
    "<br>\n",
    "<br>\n"
   ]
  },
  {
   "cell_type": "markdown",
   "metadata": {},
   "source": [
    "## *Part 3. Basic Plotting*"
   ]
  },
  {
   "cell_type": "code",
   "execution_count": 18,
   "metadata": {},
   "outputs": [],
   "source": [
    "# Step one, we import a plotting package.\n",
    "import matplotlib.pyplot as plt\n",
    "\n",
    "# To enable our visualization within within the notebook,\n",
    "# we use the following command\n",
    "%matplotlib inline"
   ]
  },
  {
   "cell_type": "code",
   "execution_count": 19,
   "metadata": {},
   "outputs": [
    {
     "data": {
      "image/png": "[encoded data removed]",
      "text/plain": [
       "<Figure size 720x360 with 1 Axes>"
      ]
     },
     "metadata": {
      "needs_background": "light"
     },
     "output_type": "display_data"
    }
   ],
   "source": [
    "# Define a figure (think of this as a page).\n",
    "fig = plt.figure(figsize=(10, 5))\n",
    "\n",
    "# Let's give it a title.\n",
    "fig.suptitle('Temperature Variants From 1800 - 2018 Global Averages', fontsize=20)\n",
    "\n",
    "\n",
    "# Lets just make a line plot, worry about everything else later\n",
    "plt.plot(temp_var_global['Year'], temp_var_global['AnomalyF'])\n",
    "\n",
    "# And label some axes.\n",
    "plt.ylabel('Anomaly $\\degree$F', fontsize = 20)\n",
    "plt.xlabel('Year', fontsize = 20); \n",
    "    \n",
    "# Notice the \";\" at the end of the last line. The semicolon suppresses output. Try running this\n",
    "# cell after removing the semicolon. What does this imply about what the plt.xlabel() method returns?\n",
    "# What do you think the plt.plot() method returns? Why might this be useful?\n",
    "\n",
    "\n",
    "# NOTE: using $COMMANDS$ in a text entry will enable mathematical symbols through LaTeX \n"
   ]
  },
  {
   "cell_type": "markdown",
   "metadata": {},
   "source": [
    "### We will pause here to discuss our opinions on this plot.\n",
    "\n",
    "<br>\n",
    "<br>\n",
    "<br>\n",
    "<br>\n",
    "<br>\n",
    "<br>\n",
    "<br>\n",
    "<br>\n",
    "<br>\n",
    "<br>\n",
    "<br>\n",
    "<br>"
   ]
  },
  {
   "cell_type": "code",
   "execution_count": 20,
   "metadata": {},
   "outputs": [
    {
     "data": {
      "image/png": "[encoded data removed]",
      "text/plain": [
       "<Figure size 720x360 with 1 Axes>"
      ]
     },
     "metadata": {
      "needs_background": "light"
     },
     "output_type": "display_data"
    }
   ],
   "source": [
    "fig = plt.figure(figsize=(10, 5))\n",
    "fig.suptitle('Temperature Variants From 1880 - 2018 Global Averages', fontsize=20)\n",
    "\n",
    "plt.plot(temp_var_global['Year'], temp_var_global['AnomalyF'])\n",
    "\n",
    "plt.ylabel('Anomaly $\\degree$F', fontsize = 20)\n",
    "plt.xlabel('Year', fontsize = 20)\n",
    "\n",
    "\n",
    "#----------------------------------------- we add the following to our code\n",
    "plt.xticks(fontsize=16) #make the xaxis labels larger\n",
    "plt.yticks(fontsize=16) #make the yaxis labels larger\n",
    "plt.axhline(y=0.0, color='k', linestyle='--') #add a horizontal line at 0\n",
    "plt.grid(color='gray', linestyle='dashed'); #add a grid so it's easier to tell if at zero\n",
    "#-----------------------------------------\n"
   ]
  },
  {
   "cell_type": "markdown",
   "metadata": {},
   "source": [
    "\n",
    "### What we lose here in terms of the information presented is that we KNOW that each point has a definitive width of 1 year, it's an average over that year, the chaotic behaivor of the line is more misleading than informative. A bar chart would fix this issue. Go ahead and try out the next plot block. \n",
    "\n",
    "<br>\n",
    "<br>\n",
    "<br>\n",
    "<br>\n",
    "<br>\n",
    "<br>\n",
    "<br>\n",
    "<br>\n",
    "<br>\n",
    "<br>\n",
    "<br>\n",
    "<br>\n",
    "\n"
   ]
  },
  {
   "cell_type": "code",
   "execution_count": 21,
   "metadata": {},
   "outputs": [
    {
     "data": {
      "image/png": "[encoded data removed]",
      "text/plain": [
       "<Figure size 720x360 with 1 Axes>"
      ]
     },
     "metadata": {
      "needs_background": "light"
     },
     "output_type": "display_data"
    }
   ],
   "source": [
    "fig = plt.figure(figsize=(10, 5))\n",
    "fig.suptitle('Temperature Variants From 1880 - 2018 Global Averages', fontsize=20)\n",
    "\n",
    "#----------------------------------------- we have edited this into a bar chart\n",
    "\n",
    "# Note we make it purple for fun ;)\n",
    "# also the align = 'edge' will align to the left side of the range\n",
    "# width = 0.8 rather than 1 simply to make it appear more interesting. Go ahead and play \n",
    "# with the width to see why it's at 0.8\n",
    "plt.bar(temp_var_global['Year'], temp_var_global['AnomalyF'], width = 0.8, align='edge', \n",
    "        color = 'purple')\n",
    "#----------------------------------------- \n",
    "plt.ylabel('Anomaly $\\degree$F', fontsize = 20)\n",
    "plt.xlabel('Year', fontsize = 20)\n",
    "\n",
    "plt.xticks(fontsize=16)\n",
    "plt.yticks(fontsize=16)\n",
    "plt.axhline(y=0.0, color='k', linestyle='--')\n",
    "\n",
    "plt.grid(color='gray', linestyle='dashed')\n"
   ]
  },
  {
   "cell_type": "markdown",
   "metadata": {},
   "source": [
    "## *Part 4 - More advanced plotting*\n",
    "\n",
    "So while purple was fun, that's not really the main message of this chart. We want to show when it's greater than zero, and less than zero. It would be best if these were actually different colors.\n",
    "\n",
    "Remember how we set this equal to purple? We can also assign a column JUST for colors in our dataframe so that each bar could have different colors when we plot it. There are two more obvious ways to go about this. In both ways our goal is to create a NEW column in the data frame with the colors of the bars where if less than zero we make blue ('b'), greater than we make red ('r').\n",
    "\n",
    "#### Come up with an idea of how you would do this. Do not look below to gain inspiration. \n",
    "#### Then discuss your ideas with your neighbor. Be ready to share with the class. \n",
    "\n",
    "\n",
    "\n",
    "<br>\n",
    "<br>\n",
    "<br>\n",
    "<br>\n",
    "<br>\n",
    "<br>\n",
    "<br>\n",
    "<br>\n",
    "<br>\n",
    "<br>\n",
    "<br>\n",
    "<br>\n",
    "<br>\n",
    "\n"
   ]
  },
  {
   "cell_type": "markdown",
   "metadata": {},
   "source": [
    "#### The two ways we are going to learn in this laboratory are as follows. \n",
    "\n",
    "#### Way 1)\n",
    "\n",
    "- The tried and true brute force method of using a for loop to loop over every data value in our array, create a new column, and fill with what color we want it to be. \n",
    "\n",
    "#### Way 2)\n",
    "\n",
    "- Use the built-in methods of objects (in this case pandas.DataFrame) to avoid writing extensive loop structures\n",
    "\n",
    "\n",
    "Let's start with way one. "
   ]
  },
  {
   "cell_type": "markdown",
   "metadata": {},
   "source": [
    "### *Part 4. A. METHOD ONE  - For Loops.*"
   ]
  },
  {
   "cell_type": "code",
   "execution_count": 22,
   "metadata": {},
   "outputs": [
    {
     "name": "stdout",
     "output_type": "stream",
     "text": [
      "The value of example_array at index 0 is 0.\n",
      "The value of example_array at index 1 is 2.\n",
      "The value of example_array at index 2 is 4.\n",
      "The value of example_array at index 3 is 6.\n",
      "The value of example_array at index 4 is 8.\n"
     ]
    }
   ],
   "source": [
    "# Set up new column just for colors, and fill with 'g' for now. We will know if we did \n",
    "# Something wrong when we plot it because it will be green\n",
    "temp_var_global['Colors'] = 'g'\n",
    "\n",
    "# Now we want to \"loop over\" our data frame, setting each value in the frame in the column of \n",
    "#'Colors' to a set value. \n",
    "\n",
    "# What do I mean by a for loop? Here's an example, remember our numpy array from earlier? \n",
    "for i in range(len(example_array)):\n",
    "    print(\"The value of example_array at index {1} is {0}.\".format(example_array[i], i))\n",
    "    "
   ]
  },
  {
   "cell_type": "code",
   "execution_count": 23,
   "metadata": {},
   "outputs": [
    {
     "name": "stdout",
     "output_type": "stream",
     "text": [
      "The value of the array at index 0 is 0.\n",
      "The value of the array at index 1 is 2.\n",
      "The value of the array at index 2 is 4.\n",
      "The value of the array at index 3 is 6.\n",
      "The value of the array at index 4 is 8.\n"
     ]
    }
   ],
   "source": [
    "# What if we want to count each entry? There's a function called enumerate for numpy arrays\n",
    "# note it starts at zero. \n",
    "# The following produces the same as the previous for loop.\n",
    "\n",
    "# this will loop over the pair index AND entry\n",
    "for index, entry in enumerate(example_array):\n",
    "    print(\"The value of the array at index {} is {}.\".format(index, entry))"
   ]
  },
  {
   "cell_type": "markdown",
   "metadata": {},
   "source": [
    "### Now let's apply what we learned from the for loops to the dataframe."
   ]
  },
  {
   "cell_type": "code",
   "execution_count": 24,
   "metadata": {},
   "outputs": [
    {
     "name": "stdout",
     "output_type": "stream",
     "text": [
      "At index 0 and year 1880 the value of AnomalyF is: -0.216\n",
      "At index 1 and year 1881 the value of AnomalyF is: -0.162\n",
      "At index 2 and year 1882 the value of AnomalyF is: -0.18000000000000002\n",
      "At index 3 and year 1883 the value of AnomalyF is: -0.324\n",
      "At index 4 and year 1884 the value of AnomalyF is: -0.48600000000000004\n",
      "At index 5 and year 1885 the value of AnomalyF is: -0.45\n",
      "At index 6 and year 1886 the value of AnomalyF is: -0.432\n",
      "At index 7 and year 1887 the value of AnomalyF is: -0.5040000000000001\n",
      "At index 8 and year 1888 the value of AnomalyF is: -0.234\n",
      "At index 9 and year 1889 the value of AnomalyF is: -0.14400000000000002\n",
      "At index 10 and year 1890 the value of AnomalyF is: -0.6120000000000001\n",
      "At index 11 and year 1891 the value of AnomalyF is: -0.468\n",
      "At index 12 and year 1892 the value of AnomalyF is: -0.558\n",
      "At index 13 and year 1893 the value of AnomalyF is: -0.5940000000000001\n",
      "At index 14 and year 1894 the value of AnomalyF is: -0.558\n",
      "At index 15 and year 1895 the value of AnomalyF is: -0.432\n",
      "At index 16 and year 1896 the value of AnomalyF is: -0.162\n",
      "At index 17 and year 1897 the value of AnomalyF is: -0.18000000000000002\n",
      "At index 18 and year 1898 the value of AnomalyF is: -0.48600000000000004\n",
      "At index 19 and year 1899 the value of AnomalyF is: -0.27\n",
      "At index 20 and year 1900 the value of AnomalyF is: -0.12600000000000003\n",
      "At index 21 and year 1901 the value of AnomalyF is: -0.27\n",
      "At index 22 and year 1902 the value of AnomalyF is: -0.45\n",
      "At index 23 and year 1903 the value of AnomalyF is: -0.684\n",
      "At index 24 and year 1904 the value of AnomalyF is: -0.8280000000000001\n",
      "At index 25 and year 1905 the value of AnomalyF is: -0.5040000000000001\n",
      "At index 26 and year 1906 the value of AnomalyF is: -0.378\n",
      "At index 27 and year 1907 the value of AnomalyF is: -0.684\n",
      "At index 28 and year 1908 the value of AnomalyF is: -0.774\n",
      "At index 29 and year 1909 the value of AnomalyF is: -0.792\n",
      "At index 30 and year 1910 the value of AnomalyF is: -0.7200000000000001\n",
      "At index 31 and year 1911 the value of AnomalyF is: -0.81\n",
      "At index 32 and year 1912 the value of AnomalyF is: -0.6120000000000001\n",
      "At index 33 and year 1913 the value of AnomalyF is: -0.5760000000000001\n",
      "At index 34 and year 1914 the value of AnomalyF is: -0.25200000000000006\n",
      "At index 35 and year 1915 the value of AnomalyF is: -0.18000000000000002\n",
      "At index 36 and year 1916 the value of AnomalyF is: -0.5940000000000001\n",
      "At index 37 and year 1917 the value of AnomalyF is: -0.7200000000000001\n",
      "At index 38 and year 1918 the value of AnomalyF is: -0.558\n",
      "At index 39 and year 1919 the value of AnomalyF is: -0.45\n",
      "At index 40 and year 1920 the value of AnomalyF is: -0.41400000000000003\n",
      "At index 41 and year 1921 the value of AnomalyF is: -0.28800000000000003\n",
      "At index 42 and year 1922 the value of AnomalyF is: -0.432\n",
      "At index 43 and year 1923 the value of AnomalyF is: -0.45\n",
      "At index 44 and year 1924 the value of AnomalyF is: -0.432\n",
      "At index 45 and year 1925 the value of AnomalyF is: -0.324\n",
      "At index 46 and year 1926 the value of AnomalyF is: -0.14400000000000002\n",
      "At index 47 and year 1927 the value of AnomalyF is: -0.324\n",
      "At index 48 and year 1928 the value of AnomalyF is: -0.324\n",
      "At index 49 and year 1929 the value of AnomalyF is: -0.5940000000000001\n",
      "At index 50 and year 1930 the value of AnomalyF is: -0.198\n",
      "At index 51 and year 1931 the value of AnomalyF is: -0.108\n",
      "At index 52 and year 1932 the value of AnomalyF is: -0.234\n",
      "At index 53 and year 1933 the value of AnomalyF is: -0.468\n",
      "At index 54 and year 1934 the value of AnomalyF is: -0.198\n",
      "At index 55 and year 1935 the value of AnomalyF is: -0.28800000000000003\n",
      "At index 56 and year 1936 the value of AnomalyF is: -0.216\n",
      "At index 57 and year 1937 the value of AnomalyF is: -0.018000000000000002\n",
      "At index 58 and year 1938 the value of AnomalyF is: -0.036000000000000004\n",
      "At index 59 and year 1939 the value of AnomalyF is: 0.018000000000000002\n",
      "At index 60 and year 1940 the value of AnomalyF is: 0.28800000000000003\n",
      "At index 61 and year 1941 the value of AnomalyF is: 0.48600000000000004\n",
      "At index 62 and year 1942 the value of AnomalyF is: 0.18000000000000002\n",
      "At index 63 and year 1943 the value of AnomalyF is: 0.18000000000000002\n",
      "At index 64 and year 1944 the value of AnomalyF is: 0.5040000000000001\n",
      "At index 65 and year 1945 the value of AnomalyF is: 0.324\n",
      "At index 66 and year 1946 the value of AnomalyF is: -0.018000000000000002\n",
      "At index 67 and year 1947 the value of AnomalyF is: -0.07200000000000001\n",
      "At index 68 and year 1948 the value of AnomalyF is: -0.09000000000000001\n",
      "At index 69 and year 1949 the value of AnomalyF is: -0.12600000000000003\n",
      "At index 70 and year 1950 the value of AnomalyF is: -0.27\n",
      "At index 71 and year 1951 the value of AnomalyF is: 0.0\n",
      "At index 72 and year 1952 the value of AnomalyF is: 0.09000000000000001\n",
      "At index 73 and year 1953 the value of AnomalyF is: 0.234\n",
      "At index 74 and year 1954 the value of AnomalyF is: -0.18000000000000002\n",
      "At index 75 and year 1955 the value of AnomalyF is: -0.234\n",
      "At index 76 and year 1956 the value of AnomalyF is: -0.324\n",
      "At index 77 and year 1957 the value of AnomalyF is: 0.12600000000000003\n",
      "At index 78 and year 1958 the value of AnomalyF is: 0.234\n",
      "At index 79 and year 1959 the value of AnomalyF is: 0.14400000000000002\n",
      "At index 80 and year 1960 the value of AnomalyF is: 0.09000000000000001\n",
      "At index 81 and year 1961 the value of AnomalyF is: 0.18000000000000002\n",
      "At index 82 and year 1962 the value of AnomalyF is: 0.198\n",
      "At index 83 and year 1963 the value of AnomalyF is: 0.216\n",
      "At index 84 and year 1964 the value of AnomalyF is: -0.25200000000000006\n",
      "At index 85 and year 1965 the value of AnomalyF is: -0.12600000000000003\n",
      "At index 86 and year 1966 the value of AnomalyF is: -0.018000000000000002\n",
      "At index 87 and year 1967 the value of AnomalyF is: -0.0\n",
      "At index 88 and year 1968 the value of AnomalyF is: -0.054\n",
      "At index 89 and year 1969 the value of AnomalyF is: 0.198\n",
      "At index 90 and year 1970 the value of AnomalyF is: 0.108\n",
      "At index 91 and year 1971 the value of AnomalyF is: -0.108\n",
      "At index 92 and year 1972 the value of AnomalyF is: 0.07200000000000001\n",
      "At index 93 and year 1973 the value of AnomalyF is: 0.36000000000000004\n",
      "At index 94 and year 1974 the value of AnomalyF is: -0.108\n",
      "At index 95 and year 1975 the value of AnomalyF is: 0.036000000000000004\n",
      "At index 96 and year 1976 the value of AnomalyF is: -0.12600000000000003\n",
      "At index 97 and year 1977 the value of AnomalyF is: 0.378\n",
      "At index 98 and year 1978 the value of AnomalyF is: 0.216\n",
      "At index 99 and year 1979 the value of AnomalyF is: 0.41400000000000003\n",
      "At index 100 and year 1980 the value of AnomalyF is: 0.5040000000000001\n",
      "At index 101 and year 1981 the value of AnomalyF is: 0.5760000000000001\n",
      "At index 102 and year 1982 the value of AnomalyF is: 0.342\n",
      "At index 103 and year 1983 the value of AnomalyF is: 0.648\n",
      "At index 104 and year 1984 the value of AnomalyF is: 0.30600000000000005\n",
      "At index 105 and year 1985 the value of AnomalyF is: 0.28800000000000003\n",
      "At index 106 and year 1986 the value of AnomalyF is: 0.432\n",
      "At index 107 and year 1987 the value of AnomalyF is: 0.684\n",
      "At index 108 and year 1988 the value of AnomalyF is: 0.7020000000000001\n",
      "At index 109 and year 1989 the value of AnomalyF is: 0.522\n",
      "At index 110 and year 1990 the value of AnomalyF is: 0.81\n",
      "At index 111 and year 1991 the value of AnomalyF is: 0.7020000000000001\n",
      "At index 112 and year 1992 the value of AnomalyF is: 0.432\n",
      "At index 113 and year 1993 the value of AnomalyF is: 0.5040000000000001\n",
      "At index 114 and year 1994 the value of AnomalyF is: 0.6120000000000001\n",
      "At index 115 and year 1995 the value of AnomalyF is: 0.846\n",
      "At index 116 and year 1996 the value of AnomalyF is: 0.5940000000000001\n",
      "At index 117 and year 1997 the value of AnomalyF is: 0.936\n",
      "At index 118 and year 1998 the value of AnomalyF is: 1.1700000000000002\n",
      "At index 119 and year 1999 the value of AnomalyF is: 0.792\n",
      "At index 120 and year 2000 the value of AnomalyF is: 0.774\n",
      "At index 121 and year 2001 the value of AnomalyF is: 1.026\n",
      "At index 122 and year 2002 the value of AnomalyF is: 1.116\n",
      "At index 123 and year 2003 the value of AnomalyF is: 1.1520000000000001\n",
      "At index 124 and year 2004 the value of AnomalyF is: 1.062\n",
      "At index 125 and year 2005 the value of AnomalyF is: 1.2060000000000002\n",
      "At index 126 and year 2006 the value of AnomalyF is: 1.1520000000000001\n",
      "At index 127 and year 2007 the value of AnomalyF is: 1.116\n",
      "At index 128 and year 2008 the value of AnomalyF is: 0.9900000000000001\n",
      "At index 129 and year 2009 the value of AnomalyF is: 1.1700000000000002\n",
      "At index 130 and year 2010 the value of AnomalyF is: 1.314\n",
      "At index 131 and year 2011 the value of AnomalyF is: 1.044\n",
      "At index 132 and year 2012 the value of AnomalyF is: 1.1520000000000001\n",
      "At index 133 and year 2013 the value of AnomalyF is: 1.2060000000000002\n",
      "At index 134 and year 2014 the value of AnomalyF is: 1.332\n",
      "At index 135 and year 2015 the value of AnomalyF is: 1.6740000000000002\n",
      "At index 136 and year 2016 the value of AnomalyF is: 1.782\n",
      "At index 137 and year 2017 the value of AnomalyF is: 1.6380000000000001\n",
      "At index 138 and year 2018 the value of AnomalyF is: 1.494\n"
     ]
    }
   ],
   "source": [
    "# This one is a bit more complicated...but it's the same basic idea where enumerate for \n",
    "# numpy arrays is replaced with iterrows() for pandas dataframes, which is exactly what \n",
    "# it sounds like, iterate over rows :) \n",
    "\n",
    "for index, row in temp_var_global.iterrows():\n",
    "    #iterrates over the entirty of the dataframe\n",
    "    print(\"At index {} and year {} the value of AnomalyF is: {}\".format(index, row['Year'], \n",
    "                                                                        row['AnomalyF']))\n",
    "    "
   ]
  },
  {
   "cell_type": "code",
   "execution_count": 25,
   "metadata": {},
   "outputs": [],
   "source": [
    "# Now lets actually assign colors, we can use if statments here another flow control structure\n",
    "\n",
    "# in words what this loop means: for every entry in our dataframe, see if > 0 or less < 0\n",
    "\n",
    "\n",
    "for index, row in temp_var_global.iterrows():\n",
    "    \n",
    "    #check if greater than 0\n",
    "    if row['AnomalyF'] > 0:\n",
    "        #set value in array as red\n",
    "        temp_var_global.at[index, 'Colors'] = 'red'\n",
    "    \n",
    "    #check if less than 0, or equal to\n",
    "    if row['AnomalyF'] <= 0:\n",
    "        #set value in array as blue\n",
    "        temp_var_global.at[index, 'Colors'] = 'blue'\n",
    "\n",
    "# Note: you can find more pre-defined colors in matplotlib here:\n",
    "# https://matplotlib.org/gallery/color/named_colors.html#sphx-glr-gallery-color-named-colors-py"
   ]
  },
  {
   "cell_type": "markdown",
   "metadata": {},
   "source": [
    "### PAUSE. Think about what is happening in this loop. Explain it to your neighbor. When you are done chatting put your name tag down. \n",
    "\n",
    "<br>\n",
    "<br>\n",
    "<br>\n",
    "<br>\n",
    "<br>\n",
    "<br>\n",
    "<br>\n",
    "<br>\n",
    "<br>\n",
    "<br>\n",
    "<br>\n",
    "<br>\n",
    "<br>\n",
    "<br>\n",
    "\n"
   ]
  },
  {
   "cell_type": "code",
   "execution_count": 26,
   "metadata": {},
   "outputs": [
    {
     "name": "stdout",
     "output_type": "stream",
     "text": [
      "   Colors  AnomalyF\n",
      "50   blue    -0.198\n",
      "51   blue    -0.108\n",
      "52   blue    -0.234\n",
      "53   blue    -0.468\n",
      "54   blue    -0.198\n",
      "55   blue    -0.288\n",
      "56   blue    -0.216\n",
      "57   blue    -0.018\n",
      "58   blue    -0.036\n",
      "59    red     0.018\n",
      "60    red     0.288\n",
      "61    red     0.486\n",
      "62    red     0.180\n",
      "63    red     0.180\n",
      "64    red     0.504\n",
      "65    red     0.324\n",
      "66   blue    -0.018\n",
      "67   blue    -0.072\n",
      "68   blue    -0.090\n",
      "69   blue    -0.126\n",
      "70   blue    -0.270\n"
     ]
    }
   ],
   "source": [
    "#let's check to see what this looks like, print from index 50 - 70\n",
    "#print both colors and anomalyF columns\n",
    "\n",
    "print(temp_var_global.loc[50:70, ['Colors', 'AnomalyF']])"
   ]
  },
  {
   "cell_type": "code",
   "execution_count": 27,
   "metadata": {},
   "outputs": [
    {
     "data": {
      "image/png": "[encoded data removed]",
      "text/plain": [
       "<Figure size 720x360 with 1 Axes>"
      ]
     },
     "metadata": {
      "needs_background": "light"
     },
     "output_type": "display_data"
    }
   ],
   "source": [
    "#and now let's plot it!\n",
    "\n",
    "fig = plt.figure(figsize=(10, 5))\n",
    "fig.suptitle('Temperature Variants From 1800 - 2017 Global Averages', fontsize=20)\n",
    "\n",
    "#------------------------------------------------  we edited the following color statement ONLY\n",
    "plt.bar(temp_var_global['Year'], temp_var_global['AnomalyF'], width = 0.8, align='edge', \n",
    "        color = temp_var_global['Colors'])\n",
    "#------------------------------------------------\n",
    "\n",
    "plt.ylabel('Anomaly $\\degree$F', fontsize = 20)\n",
    "plt.xlabel('Year', fontsize = 20)\n",
    "\n",
    "plt.xticks(fontsize=16)\n",
    "plt.yticks(fontsize=16)\n",
    "plt.axhline(y=0.0, color='k', linestyle='--')\n",
    "\n",
    "plt.grid(color='gray', linestyle='dashed')"
   ]
  },
  {
   "cell_type": "markdown",
   "metadata": {},
   "source": [
    "### *Part 4. B. METHOD TWO  - Boolean Indexing.*\n",
    "\n",
    "In general python \"slows down\" with loops. It also allows for better programming LATER (in class) if we use what we\n",
    "call 'Boolean Indexing'.\n",
    "\n",
    "We use those logic statements before for greater or lesser and use them to select positions in the dataframe to then subset into our data. For example, all places with >0, all places with <0\n"
   ]
  },
  {
   "cell_type": "code",
   "execution_count": 28,
   "metadata": {},
   "outputs": [
    {
     "name": "stdout",
     "output_type": "stream",
     "text": [
      "0    -0.216\n",
      "1    -0.162\n",
      "2    -0.180\n",
      "3    -0.324\n",
      "4    -0.486\n",
      "5    -0.450\n",
      "6    -0.432\n",
      "7    -0.504\n",
      "8    -0.234\n",
      "9    -0.144\n",
      "10   -0.612\n",
      "Name: AnomalyF, dtype: float64\n",
      "0    False\n",
      "1    False\n",
      "2    False\n",
      "3    False\n",
      "4    False\n",
      "5    False\n",
      "6    False\n",
      "7    False\n",
      "8    False\n",
      "9    False\n",
      "Name: AnomalyF, dtype: bool\n"
     ]
    }
   ],
   "source": [
    "#Step One, create boolean arrays, we call these indexes\n",
    "boolean_index = temp_var_global['AnomalyF'] > 0 \n",
    "\n",
    "print(temp_var_global.loc[0:10, 'AnomalyF'])\n",
    "print(boolean_index[0:10])\n",
    "\n",
    "#let's see what these look like!"
   ]
  },
  {
   "cell_type": "code",
   "execution_count": 29,
   "metadata": {},
   "outputs": [
    {
     "name": "stdout",
     "output_type": "stream",
     "text": [
      "0    True\n",
      "1    True\n",
      "2    True\n",
      "3    True\n",
      "4    True\n",
      "5    True\n",
      "6    True\n",
      "7    True\n",
      "8    True\n",
      "9    True\n",
      "Name: AnomalyF, dtype: bool\n"
     ]
    }
   ],
   "source": [
    "# The tilda operator flips the boolean index to the opposite truth value\n",
    "print(~boolean_index[0:10])"
   ]
  },
  {
   "cell_type": "code",
   "execution_count": 30,
   "metadata": {},
   "outputs": [
    {
     "name": "stdout",
     "output_type": "stream",
     "text": [
      "   Colors  Colors2\n",
      "0    blue  #64ACEA\n",
      "1    blue  #64ACEA\n",
      "2    blue  #64ACEA\n",
      "3    blue  #64ACEA\n",
      "4    blue  #64ACEA\n",
      "5    blue  #64ACEA\n",
      "6    blue  #64ACEA\n",
      "7    blue  #64ACEA\n",
      "8    blue  #64ACEA\n",
      "9    blue  #64ACEA\n",
      "10   blue  #64ACEA\n"
     ]
    }
   ],
   "source": [
    "# Now, rather than the for loop we can set up a different system\n",
    "temp_var_global['Colors2'] = 'k'\n",
    "temp_var_global.loc[boolean_index, 'Colors2'] = '#9F4E58' \n",
    "temp_var_global.loc[~boolean_index, 'Colors2'] = '#64ACEA'\n",
    "# To customize our colors we use hex code - check out this website. \n",
    "#http://www.color-hex.com/color/90537c\n",
    "print(temp_var_global.loc[0:10, ['Colors', 'Colors2']])"
   ]
  },
  {
   "cell_type": "code",
   "execution_count": 31,
   "metadata": {},
   "outputs": [
    {
     "data": {
      "image/png": "[encoded data removed]",
      "text/plain": [
       "<Figure size 720x360 with 1 Axes>"
      ]
     },
     "metadata": {
      "needs_background": "light"
     },
     "output_type": "display_data"
    }
   ],
   "source": [
    "fig = plt.figure(figsize=(10, 5))\n",
    "fig.suptitle('Temperature Variants From 1800 - 2017 Global Averages', fontsize=20)\n",
    "\n",
    "#-------- we edited the following color statement ONLY\n",
    "plt.bar(temp_var_global['Year'], temp_var_global['AnomalyF'], width = 0.8, align='edge', \n",
    "        color = temp_var_global['Colors2'])\n",
    "#----------\n",
    "\n",
    "plt.ylabel('Anomaly $\\degree$F', fontsize = 20)\n",
    "plt.xlabel('Year', fontsize = 20)\n",
    "\n",
    "plt.xticks(fontsize=16)\n",
    "plt.yticks(fontsize=16)\n",
    "plt.axhline(y=0.0, color='k', linestyle='--')\n",
    "\n",
    "plt.grid(color='gray', linestyle='dashed')\n",
    "\n",
    "#how to save figures - \n",
    "#this first command will not save with a white background, the second will\n",
    "plt.savefig('./Figures/TempVariants_GlobalYearlyAverages_Transparent.png', transparent=True)\n",
    "plt.savefig('./Figures/TempVariants_GlobalYearlyAverages.png')\n",
    "\n",
    "#please go see within your Jupyter folder the .png file"
   ]
  },
  {
   "cell_type": "markdown",
   "metadata": {},
   "source": [
    "### How did the methods we learn differ and compare to each other? The for loop vs the boolean index method? Specifically, did you like one more than the other?\n",
    "\n",
    "<br>\n",
    "<br>\n",
    "<br>\n",
    "<br>\n",
    "<br>\n",
    "<br>\n",
    "<br>\n",
    "<br>\n",
    "<br>\n",
    "<br>\n",
    "<br>\n",
    "<br>\n",
    "<br>\n",
    "<br>\n",
    "<br>\n",
    "<br>\n",
    "<br>\n",
    "<br>\n",
    "<br>\n",
    "<br>\n"
   ]
  },
  {
   "cell_type": "markdown",
   "metadata": {},
   "source": [
    "# SUMMARY\n",
    "\n",
    "From this lab you have learned the basics of python packages including: numpy, pandas, and matplotlib.pyplot. \n",
    "\n",
    "We have also learned about flow control structures (for loops, if statements) and how to access a pandas data frame through boolean indexing and through normal indexing and how to manipulate various columns here. \n",
    "\n",
    "Next time we will continue our learning of Python.\n",
    "\n",
    "Homework: Please complete Assignment 1 located on Canvas - due in 1 week on Wednesday, January 22. Office hours will be held on Friday from 1-3pm in CSRB 2218 (two days from now). If this time doesn't work please email us and we can arrange seperate hours."
   ]
  },
  {
   "cell_type": "markdown",
   "metadata": {},
   "source": [
    "<br>\n",
    "<br>\n",
    "<br>\n",
    "<br>\n",
    "<br>"
   ]
  },
  {
   "cell_type": "markdown",
   "metadata": {},
   "source": [
    "### Additional Material - Error propagation and reporting\n",
    "\n",
    "Suppose many people took measurements of the length and width of the CSRB and found:\n",
    "\n",
    "Length = $112.1 \\pm 0.4 \\mathrm{m}$\n",
    "\n",
    "Width  = $55.5 \\pm 0.5 \\mathrm{m}$\n",
    "\n",
    "\n",
    "How would you report the area, including uncertainty, of the footprint of the building?"
   ]
  },
  {
   "cell_type": "markdown",
   "metadata": {},
   "source": [
    "We know that Area = Length x Width $\\pm$ $\\delta A$, where \n",
    "\n",
    "$$\\delta A = \\sqrt{\\left(\\frac{\\partial A}{\\partial w} \\delta w \\right)^2 +  \\left(\\frac{\\partial A}{\\partial l} \\delta l \\right)^2 }$$\n",
    "\n",
    "This is equivalent to:\n",
    "\n",
    "$$ \\frac{\\delta A}{A} = \\sqrt{\\left(\\frac{\\delta w}{w} \\right)^2 + \\left(\\frac{\\delta l}{l} \\right)^2}$$\n",
    "\n",
    "\n",
    "Let's see how this looks in code!"
   ]
  },
  {
   "cell_type": "code",
   "execution_count": 32,
   "metadata": {},
   "outputs": [],
   "source": [
    "# Assign values given in problem.\n",
    "length, width = 112.1, 55.5\n",
    "dl, dw = 0.4, 0.5\n",
    "\n",
    "# Calculate Area\n",
    "area = length * width\n",
    "\n",
    "# Calculate error propagation; we will import from Python's built-in math module\n",
    "from math import sqrt\n",
    "\n",
    "# Using the first equation; note in Python the exponent operator is **\n",
    "dA = sqrt((length * dw)**2 + (width * dl)**2)\n",
    "\n",
    "# Let's calculate dA using the second equation\n",
    "dA_over_A = sqrt((dw / width)**2 + (dl / length)**2)\n",
    "\n",
    "# And to get dA, we will need to multiply by our calculated Area.\n",
    "dA_2 = dA_over_A * area"
   ]
  },
  {
   "cell_type": "code",
   "execution_count": 33,
   "metadata": {
    "scrolled": true
   },
   "outputs": [
    {
     "data": {
      "text/plain": [
       "True"
      ]
     },
     "execution_count": 33,
     "metadata": {},
     "output_type": "execute_result"
    }
   ],
   "source": [
    "# Are the two equations above equal?\n",
    "dA == dA_2  # == is a boolean operator that tests for equality, can also use != for not equal"
   ]
  },
  {
   "cell_type": "markdown",
   "metadata": {},
   "source": [
    "We are now ready to report our calculation and uncertainty."
   ]
  },
  {
   "cell_type": "code",
   "execution_count": 34,
   "metadata": {},
   "outputs": [
    {
     "name": "stdout",
     "output_type": "stream",
     "text": [
      "Area = 6221.549999999999 +\\- 60.286337589871884\n"
     ]
    }
   ],
   "source": [
    "print(\"Area = {} +\\- {}\".format(area, dA))"
   ]
  },
  {
   "cell_type": "markdown",
   "metadata": {},
   "source": [
    "**Don't forget to use significant figures and units!**\n",
    "\n"
   ]
  },
  {
   "cell_type": "code",
   "execution_count": 35,
   "metadata": {},
   "outputs": [
    {
     "name": "stdout",
     "output_type": "stream",
     "text": [
      "Area = 6221.5 +/- 60.3 m^2\n"
     ]
    }
   ],
   "source": [
    "print(\"Area = {0:0.1f} +/- {1:0.1f} m^2\".format(area, dA))"
   ]
  },
  {
   "cell_type": "markdown",
   "metadata": {},
   "source": [
    "You can find more about formatting strings in Python in the documentation.\n",
    "\n",
    "See Format Specification Mini-Language on the webpage:\n",
    "\n",
    "https://docs.python.org/3.7/library/string.html"
   ]
  },
  {
   "cell_type": "markdown",
   "metadata": {},
   "source": [
    "We can also use a markdown cell to explicitly type in our answers, and use $\\LaTeX$ to make it look presentable.\n",
    "\n",
    "**Here is the preferred way to report our calculation**:\n",
    "\n",
    "$$ A = 6221.5 \\pm 60.3 \\mathrm{m}^2 $$"
   ]
  },
  {
   "cell_type": "markdown",
   "metadata": {},
   "source": [
    "For help on Markdown and LaTeX syntax, see:\n",
    "\n",
    "https://www.markdownguide.org/cheat-sheet/\n",
    "\n",
    "https://en.wikibooks.org/wiki/LaTeX/Mathematics"
   ]
  }
 ],
 "metadata": {
  "kernelspec": {
   "display_name": "Python 3",
   "language": "python",
   "name": "python3"
  },
  "language_info": {
   "codemirror_mode": {
    "name": "ipython",
    "version": 3
   },
   "file_extension": ".py",
   "mimetype": "text/x-python",
   "name": "python",
   "nbconvert_exporter": "python",
   "pygments_lexer": "ipython3",
   "version": "3.8.3"
  }
 },
 "nbformat": 4,
 "nbformat_minor": 2
}
